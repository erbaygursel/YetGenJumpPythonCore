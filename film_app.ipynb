{
 "cells": [
  {
   "cell_type": "code",
   "execution_count": 6,
   "metadata": {},
   "outputs": [
    {
     "name": "stdout",
     "output_type": "stream",
     "text": [
      "Önerilen film:  The Iron Giant\n",
      "Yönetmen:  Brad Bird\n",
      "Çıkış Yılı:  1999\n",
      "En İyi Oyuncular:  Jennifer Aniston, Harry Connick Jr., Vin Diesel, James Gammon, Cloris Leachman\n",
      "Tür:  Animation, Action, Adventure, Comedy, Drama, Family, Sci-Fi\n",
      "IMDb Puanı:  8.1\n",
      "Neden beğenmediniz?\n",
      "1. IMDb Puanı\n",
      "2. Yönetmen\n",
      "3. Oyuncu Kadrosu\n",
      "4. Filmin Türü\n",
      "******************************\n",
      "Diğer filmlerimizi de deneyin!\n",
      "******************************\n",
      "İyi günler!\n"
     ]
    }
   ],
   "source": [
    "import random\n",
    "import webbrowser\n",
    "from imdb import IMDb\n",
    "\n",
    "# IMDbPY kütüphanesini kullanarak veri setini indir\n",
    "ia = IMDb()\n",
    "top_movies = ia.get_top250_movies()\n",
    "\n",
    "# En iyi 500 filmi seç\n",
    "best_movies = top_movies[:500]\n",
    "\n",
    "while True:\n",
    "    # Rastgele bir film seç\n",
    "    random_movie = random.choice(best_movies)\n",
    "\n",
    "    # Filmin özelliklerini al\n",
    "    movie = ia.get_movie(random_movie.getID())\n",
    "\n",
    "    # Filmin adı, yönetmeni, çıkış yılı, en önemli oyuncuları, türü ve IMDb puanını yazdır\n",
    "    print(\"Önerilen film: \", movie['title'])\n",
    "    print(\"Yönetmen: \", movie['director'][0]['name'])\n",
    "    print(\"Çıkış Yılı: \", movie['year'])\n",
    "    print(\"En İyi Oyuncular: \", ', '.join(actor['name'] for actor in movie['cast'][:5]))\n",
    "    print(\"Tür: \", ', '.join(movie['genres']))\n",
    "    print(\"IMDb Puanı: \", movie['rating'])\n",
    "\n",
    "    # Kullanıcının filmi beğenip beğenmediğini sor\n",
    "    liked_movie = input(\"Bu filmi beğendiniz mi? (evet/hayır): \")\n",
    "\n",
    "    # Kullanıcının cevabına göre bir link ver\n",
    "    if liked_movie.lower() == \"evet\":\n",
    "        webbrowser.open_new_tab(\"https://www.imdb.com/title/tt\" + str(movie.getID()))\n",
    "        print(\"İyi seyirler!\")\n",
    "        break  # döngüyü kır ve programı sonlandır\n",
    "    elif liked_movie.lower() == \"hayır\":\n",
    "        print(\"Neden beğenmediniz?\")\n",
    "        print(\"1. IMDb Puanı\")\n",
    "        print(\"2. Yönetmen\")\n",
    "        print(\"3. Oyuncu Kadrosu\")\n",
    "        print(\"4. Filmin Türü\")\n",
    "    reason = input(\"Seçiminiz (1/2/3/4): \")\n",
    "\n",
    "    print(\"******************************\")\n",
    "    print(\"Diğer filmlerimizi de deneyin!\")\n",
    "    print(\"******************************\")\n",
    "    devam = input(\"Devam etmek istiyor musunuz? (evet/hayır): \")\n",
    "    if devam.lower() == \"hayır\":\n",
    "        print(\"İyi günler!\")\n",
    "        break\n",
    "\n"
   ]
  }
 ],
 "metadata": {
  "kernelspec": {
   "display_name": "Python 3",
   "language": "python",
   "name": "python3"
  },
  "language_info": {
   "codemirror_mode": {
    "name": "ipython",
    "version": 3
   },
   "file_extension": ".py",
   "mimetype": "text/x-python",
   "name": "python",
   "nbconvert_exporter": "python",
   "pygments_lexer": "ipython3",
   "version": "3.11.3"
  },
  "orig_nbformat": 4
 },
 "nbformat": 4,
 "nbformat_minor": 2
}

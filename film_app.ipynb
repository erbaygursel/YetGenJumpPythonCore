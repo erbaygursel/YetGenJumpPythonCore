{
 "cells": [
  {
   "cell_type": "code",
   "execution_count": 52,
   "metadata": {},
   "outputs": [
    {
     "name": "stdout",
     "output_type": "stream",
     "text": [
      "Requirement already satisfied: IMDbPY in c:\\users\\simyacı\\appdata\\local\\packages\\pythonsoftwarefoundation.python.3.11_qbz5n2kfra8p0\\localcache\\local-packages\\python311\\site-packages (2022.7.9)\n",
      "Requirement already satisfied: cinemagoer in c:\\users\\simyacı\\appdata\\local\\packages\\pythonsoftwarefoundation.python.3.11_qbz5n2kfra8p0\\localcache\\local-packages\\python311\\site-packages (from IMDbPY) (2022.12.27)\n",
      "Requirement already satisfied: SQLAlchemy in c:\\users\\simyacı\\appdata\\local\\packages\\pythonsoftwarefoundation.python.3.11_qbz5n2kfra8p0\\localcache\\local-packages\\python311\\site-packages (from cinemagoer->IMDbPY) (2.0.11)\n",
      "Requirement already satisfied: lxml in c:\\users\\simyacı\\appdata\\local\\packages\\pythonsoftwarefoundation.python.3.11_qbz5n2kfra8p0\\localcache\\local-packages\\python311\\site-packages (from cinemagoer->IMDbPY) (4.9.2)\n",
      "Requirement already satisfied: typing-extensions>=4.2.0 in c:\\users\\simyacı\\appdata\\local\\packages\\pythonsoftwarefoundation.python.3.11_qbz5n2kfra8p0\\localcache\\local-packages\\python311\\site-packages (from SQLAlchemy->cinemagoer->IMDbPY) (4.5.0)\n",
      "Requirement already satisfied: greenlet!=0.4.17 in c:\\users\\simyacı\\appdata\\local\\packages\\pythonsoftwarefoundation.python.3.11_qbz5n2kfra8p0\\localcache\\local-packages\\python311\\site-packages (from SQLAlchemy->cinemagoer->IMDbPY) (2.0.2)\n",
      "Note: you may need to restart the kernel to use updated packages.\n"
     ]
    },
    {
     "name": "stderr",
     "output_type": "stream",
     "text": [
      "\n",
      "[notice] A new release of pip available: 22.3.1 -> 23.1.1\n",
      "[notice] To update, run: C:\\Users\\Simyacı\\AppData\\Local\\Microsoft\\WindowsApps\\PythonSoftwareFoundation.Python.3.11_qbz5n2kfra8p0\\python.exe -m pip install --upgrade pip\n"
     ]
    }
   ],
   "source": [
    "pip install IMDbPY"
   ]
  },
  {
   "cell_type": "code",
   "execution_count": null,
   "metadata": {},
   "outputs": [],
   "source": []
  },
  {
   "cell_type": "code",
   "execution_count": 57,
   "metadata": {},
   "outputs": [
    {
     "name": "stdout",
     "output_type": "stream",
     "text": [
      "Önerilen film:  Avengers: Infinity War\n",
      "Yönetmen:  Anthony Russo\n",
      "Çıkış Yılı:  2018\n",
      "En İyi Oyuncular:  Robert Downey Jr., Chris Hemsworth, Mark Ruffalo, Chris Evans, Scarlett Johansson\n",
      "Tür:  Action, Adventure, Sci-Fi\n",
      "IMDb Puanı:  8.4\n",
      "******************************\n",
      "Diğer filmlerimizi de deneyin!\n",
      "******************************\n",
      "İyi günler!\n"
     ]
    }
   ],
   "source": [
    "import random\n",
    "import webbrowser\n",
    "from imdb import IMDb\n",
    "\n",
    "# IMDbPY kütüphanesini kullanarak veri setini indir\n",
    "ia = IMDb()\n",
    "top_movies = ia.get_top250_movies()\n",
    "\n",
    "# En iyi 500 filmi seç\n",
    "best_movies = top_movies[:500]\n",
    "\n",
    "while True:\n",
    "    # Rastgele bir film seç\n",
    "    random_movie = random.choice(best_movies)\n",
    "\n",
    "    # Filmin özelliklerini al\n",
    "    movie = ia.get_movie(random_movie.getID())\n",
    "\n",
    "    # Filmin adı, yönetmeni, çıkış yılı, en önemli oyuncuları, türü ve IMDb puanını yazdır\n",
    "    print(\"Önerilen film: \", movie['title'])\n",
    "    print(\"Yönetmen: \", movie['director'][0]['name'])\n",
    "    print(\"Çıkış Yılı: \", movie['year'])\n",
    "    print(\"En İyi Oyuncular: \", ', '.join(actor['name'] for actor in movie['cast'][:5]))\n",
    "    print(\"Tür: \", ', '.join(movie['genres']))\n",
    "    print(\"IMDb Puanı: \", movie['rating'])\n",
    "\n",
    "    # Kullanıcının filmi beğenip beğenmediğini sor\n",
    "    liked_movie = input(\"Bu filmi beğendiniz mi? (evet/hayır): \")\n",
    "\n",
    "   # Kullanıcının cevabına göre bir link ver\n",
    "    if liked_movie.lower() == \"evet\":\n",
    "        print(\"İyi seyirler!\")\n",
    "        break  # döngüyü kır ve programı sonlandır\n",
    "    else:\n",
    "        print(\"******************************\")\n",
    "        print(\"Diğer filmlerimizi de deneyin!\")\n",
    "        print(\"******************************\")\n",
    "        devam = input(\"Devam etmek istiyor musunuz? (evet/hayır): \")\n",
    "        if devam.lower() == \"hayır\":\n",
    "            print(\"İyi günler!\")\n",
    "            break"
   ]
  }
 ],
 "metadata": {
  "kernelspec": {
   "display_name": "Python 3",
   "language": "python",
   "name": "python3"
  },
  "language_info": {
   "codemirror_mode": {
    "name": "ipython",
    "version": 3
   },
   "file_extension": ".py",
   "mimetype": "text/x-python",
   "name": "python",
   "nbconvert_exporter": "python",
   "pygments_lexer": "ipython3",
   "version": "3.11.3"
  },
  "orig_nbformat": 4
 },
 "nbformat": 4,
 "nbformat_minor": 2
}

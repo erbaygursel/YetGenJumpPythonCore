{
 "cells": [
  {
   "attachments": {},
   "cell_type": "markdown",
   "metadata": {},
   "source": [
    "3.Versiyon"
   ]
  },
  {
   "cell_type": "code",
   "execution_count": 2,
   "metadata": {},
   "outputs": [
    {
     "name": "stdout",
     "output_type": "stream",
     "text": [
      "Önerilen film:  Avengers: Infinity War\n",
      "Yönetmen:  Anthony Russo\n",
      "Çıkış Yılı:  2018\n",
      "En İyi Oyuncular:  Robert Downey Jr., Chris Hemsworth, Mark Ruffalo, Chris Evans, Scarlett Johansson\n",
      "Tür:  Action, Adventure, Sci-Fi\n",
      "IMDb Puanı:  8.4\n",
      "*****************\n",
      "Önerilen film:  Princess Mononoke\n",
      "Yönetmen:  Hayao Miyazaki\n",
      "Çıkış Yılı:  1997\n",
      "En İyi Oyuncular:  Billy Crudup, Billy Bob Thornton, Minnie Driver, John DiMaggio, Claire Danes\n",
      "Tür:  Animation, Action, Adventure, Fantasy\n",
      "IMDb Puanı:  8.3\n",
      "*****************\n",
      "İyi seyirler!\n"
     ]
    }
   ],
   "source": [
    "#Rastgele bir film seçmek için gereken rastgele modülünü ekler.\n",
    "import random\n",
    "#Kullanıcının bir filmi beğendiğinde IMDb sayfasını açmak için gereken webbrowser modülünü ekler.\n",
    "import webbrowser\n",
    "#IMDb veri tabanındaki filmlere erişmek için gerekli olan IMDb modülünü ekler.\n",
    "from imdb import IMDb\n",
    "\n",
    "# IMDbPY kütüphanesini kullanarak veri setini indir\n",
    "\n",
    " ##IMDb sınıfından bir örnek oluşturarak IMDb veri tabanına bağlanır.\n",
    "ia = IMDb()\n",
    " ## IMDb'deki en iyi 250 filmi top_movies adlı değişkene atar.\n",
    " ##  get_top250_movies() :IMDbPY kütüphanesi tarafından sağlanan özel bir yöntemdir ve en iyi 250 filmin tam listesini IMDb'den alır\n",
    " ## Başka örnek vereli->> popular_movies = ia.get_popular_movies(year=2021, count=100) ise get_popular_movies() yöntemini çağırarak, 2021 yılında en popüler 100 film listesini alır ve bu listeyi popular_movies adlı bir değişkene atar.\n",
    "top_movies = ia.get_top250_movies()\n",
    " ##En iyi 500 filmi best_movies adlı değişkene atar.\n",
    "best_movies = top_movies[:500]\n",
    "\n",
    "# Kullanıcının beğenmediği yönetmenleri saklamak için bir liste oluştur\n",
    "disliked_directors = []\n",
    "disliked_actors = []\n",
    "\n",
    "while True:\n",
    "    # best_movies listesinden rastgele bir film seçer.\n",
    "    random_movie = random.choice(best_movies)\n",
    "    # Seçilen filmin özelliklerini IMDb'den alır.\n",
    "    movie = ia.get_movie(random_movie.getID())\n",
    "    # Eğer filmin yönetmeni kullanıcının beğenmediği yönetmenler listesindeyse, başka bir film seç\n",
    "    if movie['director'][0]['name'] in disliked_directors:\n",
    "        continue\n",
    "\n",
    "    # Eğer filmin oyuncularından biri kullanıcının beğenmediği oyuncular listesindeyse, başka bir film seç\n",
    "    if any(actor['name'] in disliked_actors for actor in movie['cast']):\n",
    "        continue\n",
    "\n",
    "    # Filmin adı, yönetmeni, çıkış yılı, en önemli oyuncuları, türü ve IMDb puanını yazdır\n",
    "    print(\"Önerilen film: \", movie['title'])\n",
    "    print(\"Yönetmen: \", movie['director'][0]['name'])\n",
    "    print(\"Çıkış Yılı: \", movie['year'])\n",
    "    print(\"En İyi Oyuncular: \", ', '.join(actor['name'] for actor in movie['cast'][:5]))\n",
    "    print(\"Tür: \", ', '.join(movie['genres']))\n",
    "    print(\"IMDb Puanı: \", movie['rating'])\n",
    "    print(\"*****************\")\n",
    "\n",
    "    # Kullanıcının filmi beğenip beğenmediğini sor\n",
    "    liked_movie = input(\"Bu filmi beğendiniz mi? (evet/hayır): \")\n",
    "\n",
    "    # Kullanıcının cevabına göre bir link ver\n",
    "    if liked_movie.lower() == \"evet\":\n",
    "        # Örnek Url: https://www.imdb.com/title/tt0137523/... # tt'den sonraki kısmı getID fonksiyonu ile alıyoruz.\n",
    "        webbrowser.open_new_tab(\"https://www.imdb.com/title/tt\" + str(movie.getID()))\n",
    "        print(\"İyi seyirler!\")\n",
    "        break  # döngüyü kır ve programı sonlandır\n",
    "    elif liked_movie.lower() == \"hayır\":\n",
    "        print(\"Neden beğenmediniz?\")\n",
    "        print(\"1. IMDb Puanı\")\n",
    "        print(\"2. Yönetmen\")\n",
    "        print(\"3. Oyuncu Kadrosu\")\n",
    "        print(\"4. Filmin Türü\")\n",
    "        print(\"*****************\")\n",
    "        reason = input(\"Seçiminiz (1/2/3/4): \")\n",
    "\n",
    "        # Eğer kullanıcı neden olarak yönetmeni seçerse, yönetmeni beğenmediği yönetmenler listesine ekle\n",
    "        if reason == \"2\":\n",
    "            disliked_directors.append(movie['director'][0]['name'])\n",
    "            print(f\" Hay hay! {movie['director'][0]['name']} adlı bu yönetmenin filmleri bir daha önerilmeyecek.\")\n",
    "        \n",
    "        # Eğer kullanıcı neden olarak oyuncu kadrosunu seçerse, en iyi oyuncular listesindeki elemanları seçenek olarak sun ve kullanıcı o seçeneklerden birini seçtikten sonra o oyuncaya ait hiç bir filmi önerme.\n",
    "        elif reason == \"3\":\n",
    "            actors = [actor['name'] for actor in movie['cast'][:5]]\n",
    "            print(\"Hangi oyuncudan dolayı beğenmediniz?\")\n",
    "            for index, actor in enumerate(actors):\n",
    "                print(f\"{index + 1}. {actor}\")\n",
    "            disliked_actor_index = int(input(f\"Seçiminiz (1-{len(actors)}): \")) - 1\n",
    "            disliked_actor = actors[disliked_actor_index]\n",
    "            disliked_actors.append(disliked_actor)\n",
    "            print(f\" Hay hay! {disliked_actor} adlı bu oyuncunun filmleri bir daha önerilmeyecek.\")\n",
    "            print(\"***************\")\n"
   ]
  },
  {
   "attachments": {},
   "cell_type": "markdown",
   "metadata": {},
   "source": [
    "KISA Versiyon: Nesne-> key&value görmek adına"
   ]
  },
  {
   "cell_type": "code",
   "execution_count": 1,
   "metadata": {},
   "outputs": [
    {
     "name": "stdout",
     "output_type": "stream",
     "text": [
      "['_Container__role', '__bool__', '__class__', '__contains__', '__deepcopy__', '__delattr__', '__delitem__', '__dict__', '__dir__', '__doc__', '__eq__', '__format__', '__ge__', '__getattribute__', '__getitem__', '__getstate__', '__gt__', '__hash__', '__init__', '__init_subclass__', '__le__', '__len__', '__lt__', '__module__', '__ne__', '__new__', '__reduce__', '__reduce_ex__', '__repr__', '__setattr__', '__setitem__', '__sizeof__', '__str__', '__subclasshook__', '__weakref__', '_additional_keys', '_clear', '_getSeriesTitle', '_get_currentRole', '_get_roleID', '_getitem', '_image_key', '_init', '_reset', '_roleClass', '_roleIsPerson', '_set_currentRole', '_set_roleID', 'accessSystem', 'add_to_current_info', 'append_item', 'asXML', 'charactersRefs', 'clear', 'cmpFunct', 'copy', 'currentRole', 'current_info', 'data', 'default_info', 'get', 'getAsXML', 'getID', 'get_charactersRefs', 'get_current_info', 'get_fullsizeURL', 'get_namesRefs', 'get_titlesRefs', 'guessLanguage', 'has_current_info', 'has_key', 'infoset2keys', 'isSame', 'isSameMovie', 'isSameTitle', 'items', 'iteritems', 'iterkeys', 'itervalues', 'key2infoset', 'keys', 'keys_alias', 'keys_tomodify', 'keys_tomodify_list', 'modFunct', 'movieID', 'myID', 'myTitle', 'namesRefs', 'notes', 'pop', 'popitem', 'reset', 'roleID', 'set_current_info', 'set_data', 'set_item', 'set_mod_funct', 'set_title', 'setdefault', 'smartCanonicalTitle', 'summary', 'titlesRefs', 'update', 'update_charactersRefs', 'update_infoset_map', 'update_namesRefs', 'update_titlesRefs', 'values']\n",
      "Film adı: Mary and Max\n",
      "Yönetmenler: Adam Elliot\n",
      "Oyuncular: Christopher Massey\n",
      "Puanlama: 8.1\n",
      "Türler: ['Animation', 'Comedy', 'Drama']\n",
      "Yıl: 2009\n",
      "Ülke: ['Australia']\n",
      "IMDb ID: 0978762\n",
      "BİTTİ.\n"
     ]
    }
   ],
   "source": [
    "import random\n",
    "from imdb import IMDb\n",
    "\n",
    "ia = IMDb()\n",
    "top_movies = ia.get_top250_movies()\n",
    "best_movies = top_movies[:500]\n",
    "\n",
    "while True:\n",
    "    random_movie = random.choice(best_movies)\n",
    "    movie = ia.get_movie(random_movie.getID())\n",
    "    print(dir(movie))\n",
    "    print(\"Film adı:\", movie['title'])\n",
    "    print(\"Yönetmenler:\", movie['directors'][0][\"name\"])\n",
    "    print(\"Oyuncular:\", movie['cast'][0][\"name\"])\n",
    "    print(\"Puanlama:\", movie['rating'])\n",
    "    print(\"Türler:\", movie['genres'])\n",
    "    print(\"Yıl:\", movie['year'])\n",
    "    print(\"Ülke:\", movie['countries'])\n",
    "    print(\"IMDb ID:\", movie.getID())\n",
    "\n",
    "    liked_movie = input(\"Bu filmi beğendiniz mi? (evet/hayır): \")\n",
    "\n",
    "    if liked_movie.lower() == \"evet\":\n",
    "    # Örnek Url: https://www.imdb.com/title/tt0137523/... # tt'den sonraki kısmı getID fonksiyonu ile alıyoruz.\n",
    "        webbrowser.open_new_tab(\"https://www.imdb.com/title/tt\" + str(movie.getID()))\n",
    "        print(\"İyi seyirler!\")\n",
    "        break  # döngüyü kır ve programı sonlandır\n",
    "    else:\n",
    "        print(\"BİTTİ.\")\n",
    "        break\n",
    "    "
   ]
  }
 ],
 "metadata": {
  "kernelspec": {
   "display_name": "Python 3",
   "language": "python",
   "name": "python3"
  },
  "language_info": {
   "codemirror_mode": {
    "name": "ipython",
    "version": 3
   },
   "file_extension": ".py",
   "mimetype": "text/x-python",
   "name": "python",
   "nbconvert_exporter": "python",
   "pygments_lexer": "ipython3",
   "version": "3.11.3"
  },
  "orig_nbformat": 4
 },
 "nbformat": 4,
 "nbformat_minor": 2
}

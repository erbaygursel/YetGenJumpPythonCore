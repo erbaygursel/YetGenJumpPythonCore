{
 "cells": [
  {
   "attachments": {},
   "cell_type": "markdown",
   "metadata": {},
   "source": [
    "3.Versiyon"
   ]
  },
  {
   "cell_type": "code",
   "execution_count": 2,
   "metadata": {},
   "outputs": [
    {
     "name": "stdout",
     "output_type": "stream",
     "text": [
      "Önerilen film:  Ratatouille\n",
      "Yönetmen:  Brad Bird\n",
      "Çıkış Yılı:  2007\n",
      "En İyi Oyuncular:  Patton Oswalt, Ian Holm, Lou Romano, Brian Dennehy, Peter Sohn\n",
      "Tür:  Animation, Adventure, Comedy, Family, Fantasy\n",
      "IMDb Puanı:  8.1\n",
      "*****************\n",
      "Neden beğenmediniz?\n",
      "1. IMDb Puanı\n",
      "2. Yönetmen\n",
      "3. Oyuncu Kadrosu\n",
      "4. Filmin Türü\n",
      "*****************\n",
      " Hay hay! Brad Bird adlı bu yönetmenin filmleri bir daha önerilmeyecek.\n",
      "Önerilen film:  Casino\n",
      "Yönetmen:  Martin Scorsese\n",
      "Çıkış Yılı:  1995\n",
      "En İyi Oyuncular:  Robert De Niro, Sharon Stone, Joe Pesci, James Woods, Don Rickles\n",
      "Tür:  Crime, Drama\n",
      "IMDb Puanı:  8.2\n",
      "*****************\n",
      "İyi seyirler!\n"
     ]
    }
   ],
   "source": [
    "#Rastgele bir film seçmek için gereken rastgele modülünü ekler.\n",
    "import random\n",
    "#Kullanıcının bir filmi beğendiğinde IMDb sayfasını açmak için gereken webbrowser modülünü ekler.\n",
    "import webbrowser\n",
    "#IMDb veri tabanındaki filmlere erişmek için gerekli olan IMDb modülünü ekler.\n",
    "from imdb import IMDb\n",
    "\n",
    "# IMDbPY kütüphanesini kullanarak veri setini indir\n",
    "\n",
    " ##IMDb sınıfından bir örnek oluşturarak IMDb veri tabanına bağlanır.\n",
    "ia = IMDb()\n",
    " ## IMDb'deki en iyi 250 filmi top_movies adlı değişkene atar.\n",
    " ##  get_top250_movies() :IMDbPY kütüphanesi tarafından sağlanan özel bir yöntemdir ve en iyi 250 filmin tam listesini IMDb'den alır\n",
    " ## Başka örnek vereli->> popular_movies = ia.get_popular_movies(year=2021, count=100) ise get_popular_movies() yöntemini çağırarak, 2021 yılında en popüler 100 film listesini alır ve bu listeyi popular_movies adlı bir değişkene atar.\n",
    "top_movies = ia.get_top250_movies()\n",
    " ##En iyi 500 filmi best_movies adlı değişkene atar.\n",
    "best_movies = top_movies[:500]\n",
    "\n",
    "# Kullanıcının beğenmediği yönetmenleri saklamak için bir liste oluştur\n",
    "disliked_directors = []\n",
    "disliked_actors = []\n",
    "\n",
    "while True:\n",
    "    # best_movies listesinden rastgele bir film seçer.\n",
    "    random_movie = random.choice(best_movies)\n",
    "    # Seçilen filmin özelliklerini IMDb'den alır.\n",
    "    movie = ia.get_movie(random_movie.getID())\n",
    "    # Eğer filmin yönetmeni kullanıcının beğenmediği yönetmenler listesindeyse, başka bir film seç\n",
    "    if movie['director'][0]['name'] in disliked_directors:\n",
    "        continue\n",
    "\n",
    "    # Eğer filmin oyuncularından biri kullanıcının beğenmediği oyuncular listesindeyse, başka bir film seç\n",
    "    if any(actor['name'] in disliked_actors for actor in movie['cast']):\n",
    "        continue\n",
    "\n",
    "    # Filmin adı, yönetmeni, çıkış yılı, en önemli oyuncuları, türü ve IMDb puanını yazdır\n",
    "    print(\"Önerilen film: \", movie['title'])\n",
    "    print(\"Yönetmen: \", movie['director'][0]['name'])\n",
    "    print(\"Çıkış Yılı: \", movie['year'])\n",
    "    print(\"En İyi Oyuncular: \", ', '.join(actor['name'] for actor in movie['cast'][:5]))\n",
    "    print(\"Tür: \", ', '.join(movie['genres']))\n",
    "    print(\"IMDb Puanı: \", movie['rating'])\n",
    "    print(\"*****************\")\n",
    "\n",
    "    # Kullanıcının filmi beğenip beğenmediğini sor\n",
    "    liked_movie = input(\"Bu filmi beğendiniz mi? (evet/hayır): \")\n",
    "\n",
    "    # Kullanıcının cevabına göre bir link ver\n",
    "    if liked_movie.lower() == \"evet\":\n",
    "        # Örnek Url: https://www.imdb.com/title/tt0137523/... # tt'den sonraki kısmı getID fonksiyonu ile alıyoruz.\n",
    "        webbrowser.open_new_tab(\"https://www.imdb.com/title/tt\" + str(movie.getID()))\n",
    "        print(\"İyi seyirler!\")\n",
    "        break  # döngüyü kır ve programı sonlandır\n",
    "    elif liked_movie.lower() == \"hayır\":\n",
    "        print(\"Neden beğenmediniz?\")\n",
    "        print(\"1. IMDb Puanı\")\n",
    "        print(\"2. Yönetmen\")\n",
    "        print(\"3. Oyuncu Kadrosu\")\n",
    "        print(\"4. Filmin Türü\")\n",
    "        print(\"*****************\")\n",
    "        reason = input(\"Seçiminiz (1/2/3/4): \")\n",
    "\n",
    "        # Eğer kullanıcı neden olarak yönetmeni seçerse, yönetmeni beğenmediği yönetmenler listesine ekle\n",
    "        if reason == \"2\":\n",
    "            disliked_directors.append(movie['director'][0]['name'])\n",
    "            print(f\" Hay hay! {movie['director'][0]['name']} adlı bu yönetmenin filmleri bir daha önerilmeyecek.\")\n",
    "        \n",
    "        # Eğer kullanıcı neden olarak oyuncu kadrosunu seçerse, en iyi oyuncular listesindeki elemanları seçenek olarak sun ve kullanıcı o seçeneklerden birini seçtikten sonra o oyuncaya ait hiç bir filmi önerme.\n",
    "        elif reason == \"3\":\n",
    "            actors = [actor['name'] for actor in movie['cast'][:5]]\n",
    "            print(\"Hangi oyuncudan dolayı beğenmediniz?\")\n",
    "            for index, actor in enumerate(actors):\n",
    "                print(f\"{index + 1}. {actor}\")\n",
    "            disliked_actor_index = int(input(f\"Seçiminiz (1-{len(actors)}): \")) - 1\n",
    "            disliked_actor = actors[disliked_actor_index]\n",
    "            disliked_actors.append(disliked_actor)\n",
    "            print(f\" Hay hay! {disliked_actor} adlı bu oyuncunun filmleri bir daha önerilmeyecek.\")\n",
    "            print(\"***************\")\n"
   ]
  },
  {
   "attachments": {},
   "cell_type": "markdown",
   "metadata": {},
   "source": [
    "KISA Versiyon: Nesne-> key&value görmek adına"
   ]
  },
  {
   "cell_type": "code",
   "execution_count": 5,
   "metadata": {},
   "outputs": [
    {
     "name": "stdout",
     "output_type": "stream",
     "text": [
      "['_Container__role', '__bool__', '__class__', '__contains__', '__deepcopy__', '__delattr__', '__delitem__', '__dict__', '__dir__', '__doc__', '__eq__', '__format__', '__ge__', '__getattribute__', '__getitem__', '__getstate__', '__gt__', '__hash__', '__init__', '__init_subclass__', '__le__', '__len__', '__lt__', '__module__', '__ne__', '__new__', '__reduce__', '__reduce_ex__', '__repr__', '__setattr__', '__setitem__', '__sizeof__', '__str__', '__subclasshook__', '__weakref__', '_additional_keys', '_clear', '_getSeriesTitle', '_get_currentRole', '_get_roleID', '_getitem', '_image_key', '_init', '_reset', '_roleClass', '_roleIsPerson', '_set_currentRole', '_set_roleID', 'accessSystem', 'add_to_current_info', 'append_item', 'asXML', 'charactersRefs', 'clear', 'cmpFunct', 'copy', 'currentRole', 'current_info', 'data', 'default_info', 'get', 'getAsXML', 'getID', 'get_charactersRefs', 'get_current_info', 'get_fullsizeURL', 'get_namesRefs', 'get_titlesRefs', 'guessLanguage', 'has_current_info', 'has_key', 'infoset2keys', 'isSame', 'isSameMovie', 'isSameTitle', 'items', 'iteritems', 'iterkeys', 'itervalues', 'key2infoset', 'keys', 'keys_alias', 'keys_tomodify', 'keys_tomodify_list', 'modFunct', 'movieID', 'myID', 'myTitle', 'namesRefs', 'notes', 'pop', 'popitem', 'reset', 'roleID', 'set_current_info', 'set_data', 'set_item', 'set_mod_funct', 'set_title', 'setdefault', 'smartCanonicalTitle', 'summary', 'titlesRefs', 'update', 'update_charactersRefs', 'update_infoset_map', 'update_namesRefs', 'update_titlesRefs', 'values']\n"
     ]
    },
    {
     "ename": "KeyboardInterrupt",
     "evalue": "",
     "output_type": "error",
     "traceback": [
      "\u001b[1;31m---------------------------------------------------------------------------\u001b[0m",
      "\u001b[1;31mKeyboardInterrupt\u001b[0m                         Traceback (most recent call last)",
      "Cell \u001b[1;32mIn[5], line 10\u001b[0m\n\u001b[0;32m      8\u001b[0m \u001b[39mwhile\u001b[39;00m \u001b[39mTrue\u001b[39;00m:\n\u001b[0;32m      9\u001b[0m     random_movie \u001b[39m=\u001b[39m random\u001b[39m.\u001b[39mchoice(best_movies)\n\u001b[1;32m---> 10\u001b[0m     movie \u001b[39m=\u001b[39m ia\u001b[39m.\u001b[39;49mget_movie(random_movie\u001b[39m.\u001b[39;49mgetID())\n\u001b[0;32m     11\u001b[0m     \u001b[39mprint\u001b[39m(\u001b[39mdir\u001b[39m(movie))\n\u001b[0;32m     12\u001b[0m     \u001b[39m#print(\"Film adı:\", movie['title'])\u001b[39;00m\n",
      "File \u001b[1;32m~\\AppData\\Local\\Packages\\PythonSoftwareFoundation.Python.3.11_qbz5n2kfra8p0\\LocalCache\\local-packages\\Python311\\site-packages\\imdb\\__init__.py:429\u001b[0m, in \u001b[0;36mIMDbBase.get_movie\u001b[1;34m(self, movieID, info, modFunct)\u001b[0m\n\u001b[0;32m    427\u001b[0m \u001b[39mif\u001b[39;00m modFunct \u001b[39mis\u001b[39;00m \u001b[39mnot\u001b[39;00m \u001b[39mNone\u001b[39;00m:\n\u001b[0;32m    428\u001b[0m     movie\u001b[39m.\u001b[39mset_mod_funct(modFunct)\n\u001b[1;32m--> 429\u001b[0m \u001b[39mself\u001b[39;49m\u001b[39m.\u001b[39;49mupdate(movie, info)\n\u001b[0;32m    430\u001b[0m \u001b[39mreturn\u001b[39;00m movie\n",
      "File \u001b[1;32m~\\AppData\\Local\\Packages\\PythonSoftwareFoundation.Python.3.11_qbz5n2kfra8p0\\LocalCache\\local-packages\\Python311\\site-packages\\imdb\\__init__.py:848\u001b[0m, in \u001b[0;36mIMDbBase.update\u001b[1;34m(self, mop, info, override)\u001b[0m\n\u001b[0;32m    846\u001b[0m     method \u001b[39m=\u001b[39m \u001b[39mlambda\u001b[39;00m \u001b[39m*\u001b[39mx: {}\n\u001b[0;32m    847\u001b[0m \u001b[39mtry\u001b[39;00m:\n\u001b[1;32m--> 848\u001b[0m     ret \u001b[39m=\u001b[39m method(mopID)\n\u001b[0;32m    849\u001b[0m \u001b[39mexcept\u001b[39;00m \u001b[39mException\u001b[39;00m:\n\u001b[0;32m    850\u001b[0m     _imdb_logger\u001b[39m.\u001b[39mcritical(\n\u001b[0;32m    851\u001b[0m         \u001b[39m'\u001b[39m\u001b[39mcaught an exception retrieving or parsing \u001b[39m\u001b[39m\"\u001b[39m\u001b[39m%s\u001b[39;00m\u001b[39m\"\u001b[39m\u001b[39m info set\u001b[39m\u001b[39m'\u001b[39m\n\u001b[0;32m    852\u001b[0m         \u001b[39m'\u001b[39m\u001b[39m for mopID \u001b[39m\u001b[39m\"\u001b[39m\u001b[39m%s\u001b[39;00m\u001b[39m\"\u001b[39m\u001b[39m (accessSystem: \u001b[39m\u001b[39m%s\u001b[39;00m\u001b[39m)\u001b[39m\u001b[39m'\u001b[39m,\n\u001b[0;32m    853\u001b[0m         i, mopID, mop\u001b[39m.\u001b[39maccessSystem, exc_info\u001b[39m=\u001b[39m\u001b[39mTrue\u001b[39;00m\n\u001b[0;32m    854\u001b[0m     )\n",
      "File \u001b[1;32m~\\AppData\\Local\\Packages\\PythonSoftwareFoundation.Python.3.11_qbz5n2kfra8p0\\LocalCache\\local-packages\\Python311\\site-packages\\imdb\\parser\\http\\__init__.py:498\u001b[0m, in \u001b[0;36mIMDbHTTPAccessSystem.get_movie_plot\u001b[1;34m(self, movieID)\u001b[0m\n\u001b[0;32m    497\u001b[0m \u001b[39mdef\u001b[39;00m \u001b[39mget_movie_plot\u001b[39m(\u001b[39mself\u001b[39m, movieID):\n\u001b[1;32m--> 498\u001b[0m     cont \u001b[39m=\u001b[39m \u001b[39mself\u001b[39;49m\u001b[39m.\u001b[39;49m_retrieve(\u001b[39mself\u001b[39;49m\u001b[39m.\u001b[39;49murls[\u001b[39m'\u001b[39;49m\u001b[39mmovie_main\u001b[39;49m\u001b[39m'\u001b[39;49m] \u001b[39m%\u001b[39;49m movieID \u001b[39m+\u001b[39;49m \u001b[39m'\u001b[39;49m\u001b[39mplotsummary\u001b[39;49m\u001b[39m'\u001b[39;49m)\n\u001b[0;32m    499\u001b[0m     ret \u001b[39m=\u001b[39m \u001b[39mself\u001b[39m\u001b[39m.\u001b[39mmProxy\u001b[39m.\u001b[39mplot_parser\u001b[39m.\u001b[39mparse(cont, getRefs\u001b[39m=\u001b[39m\u001b[39mself\u001b[39m\u001b[39m.\u001b[39m_getRefs)\n\u001b[0;32m    500\u001b[0m     ret[\u001b[39m'\u001b[39m\u001b[39minfo sets\u001b[39m\u001b[39m'\u001b[39m] \u001b[39m=\u001b[39m (\u001b[39m'\u001b[39m\u001b[39mplot\u001b[39m\u001b[39m'\u001b[39m, \u001b[39m'\u001b[39m\u001b[39msynopsis\u001b[39m\u001b[39m'\u001b[39m)\n",
      "File \u001b[1;32m~\\AppData\\Local\\Packages\\PythonSoftwareFoundation.Python.3.11_qbz5n2kfra8p0\\LocalCache\\local-packages\\Python311\\site-packages\\imdb\\parser\\http\\__init__.py:392\u001b[0m, in \u001b[0;36mIMDbHTTPAccessSystem._retrieve\u001b[1;34m(self, url, size, _noCookies)\u001b[0m\n\u001b[0;32m    390\u001b[0m \u001b[39m\u001b[39m\u001b[39m\"\"\"Retrieve the given URL.\"\"\"\u001b[39;00m\n\u001b[0;32m    391\u001b[0m \u001b[39mself\u001b[39m\u001b[39m.\u001b[39m_http_logger\u001b[39m.\u001b[39mdebug(\u001b[39m'\u001b[39m\u001b[39mfetching url \u001b[39m\u001b[39m%s\u001b[39;00m\u001b[39m (size: \u001b[39m\u001b[39m%d\u001b[39;00m\u001b[39m)\u001b[39m\u001b[39m'\u001b[39m, url, size)\n\u001b[1;32m--> 392\u001b[0m ret \u001b[39m=\u001b[39m \u001b[39mself\u001b[39;49m\u001b[39m.\u001b[39;49murlOpener\u001b[39m.\u001b[39;49mretrieve_unicode(url, size\u001b[39m=\u001b[39;49msize)\n\u001b[0;32m    393\u001b[0m \u001b[39mif\u001b[39;00m PY2 \u001b[39mand\u001b[39;00m \u001b[39misinstance\u001b[39m(ret, \u001b[39mstr\u001b[39m):\n\u001b[0;32m    394\u001b[0m     ret \u001b[39m=\u001b[39m ret\u001b[39m.\u001b[39mdecode(\u001b[39m'\u001b[39m\u001b[39mutf-8\u001b[39m\u001b[39m'\u001b[39m)\n",
      "File \u001b[1;32m~\\AppData\\Local\\Packages\\PythonSoftwareFoundation.Python.3.11_qbz5n2kfra8p0\\LocalCache\\local-packages\\Python311\\site-packages\\imdb\\parser\\http\\__init__.py:234\u001b[0m, in \u001b[0;36mIMDbURLopener.retrieve_unicode\u001b[1;34m(self, url, size)\u001b[0m\n\u001b[0;32m    232\u001b[0m uopener\u001b[39m.\u001b[39maddheaders \u001b[39m=\u001b[39m \u001b[39mlist\u001b[39m(\u001b[39mself\u001b[39m\u001b[39m.\u001b[39maddheaders)\n\u001b[0;32m    233\u001b[0m response \u001b[39m=\u001b[39m uopener\u001b[39m.\u001b[39mopen(url)\n\u001b[1;32m--> 234\u001b[0m content \u001b[39m=\u001b[39m response\u001b[39m.\u001b[39;49mread()\n\u001b[0;32m    235\u001b[0m \u001b[39mself\u001b[39m\u001b[39m.\u001b[39m_last_url \u001b[39m=\u001b[39m response\u001b[39m.\u001b[39murl\n\u001b[0;32m    236\u001b[0m \u001b[39m# Maybe the server is so nice to tell us the charset...\u001b[39;00m\n",
      "File \u001b[1;32mC:\\Program Files\\WindowsApps\\PythonSoftwareFoundation.Python.3.11_3.11.1008.0_x64__qbz5n2kfra8p0\\Lib\\http\\client.py:460\u001b[0m, in \u001b[0;36mHTTPResponse.read\u001b[1;34m(self, amt)\u001b[0m\n\u001b[0;32m    457\u001b[0m     \u001b[39mreturn\u001b[39;00m \u001b[39mb\u001b[39m\u001b[39m\"\u001b[39m\u001b[39m\"\u001b[39m\n\u001b[0;32m    459\u001b[0m \u001b[39mif\u001b[39;00m \u001b[39mself\u001b[39m\u001b[39m.\u001b[39mchunked:\n\u001b[1;32m--> 460\u001b[0m     \u001b[39mreturn\u001b[39;00m \u001b[39mself\u001b[39;49m\u001b[39m.\u001b[39;49m_read_chunked(amt)\n\u001b[0;32m    462\u001b[0m \u001b[39mif\u001b[39;00m amt \u001b[39mis\u001b[39;00m \u001b[39mnot\u001b[39;00m \u001b[39mNone\u001b[39;00m:\n\u001b[0;32m    463\u001b[0m     \u001b[39mif\u001b[39;00m \u001b[39mself\u001b[39m\u001b[39m.\u001b[39mlength \u001b[39mis\u001b[39;00m \u001b[39mnot\u001b[39;00m \u001b[39mNone\u001b[39;00m \u001b[39mand\u001b[39;00m amt \u001b[39m>\u001b[39m \u001b[39mself\u001b[39m\u001b[39m.\u001b[39mlength:\n\u001b[0;32m    464\u001b[0m         \u001b[39m# clip the read to the \"end of response\"\u001b[39;00m\n",
      "File \u001b[1;32mC:\\Program Files\\WindowsApps\\PythonSoftwareFoundation.Python.3.11_3.11.1008.0_x64__qbz5n2kfra8p0\\Lib\\http\\client.py:583\u001b[0m, in \u001b[0;36mHTTPResponse._read_chunked\u001b[1;34m(self, amt)\u001b[0m\n\u001b[0;32m    581\u001b[0m \u001b[39mtry\u001b[39;00m:\n\u001b[0;32m    582\u001b[0m     \u001b[39mwhile\u001b[39;00m \u001b[39mTrue\u001b[39;00m:\n\u001b[1;32m--> 583\u001b[0m         chunk_left \u001b[39m=\u001b[39m \u001b[39mself\u001b[39;49m\u001b[39m.\u001b[39;49m_get_chunk_left()\n\u001b[0;32m    584\u001b[0m         \u001b[39mif\u001b[39;00m chunk_left \u001b[39mis\u001b[39;00m \u001b[39mNone\u001b[39;00m:\n\u001b[0;32m    585\u001b[0m             \u001b[39mbreak\u001b[39;00m\n",
      "File \u001b[1;32mC:\\Program Files\\WindowsApps\\PythonSoftwareFoundation.Python.3.11_3.11.1008.0_x64__qbz5n2kfra8p0\\Lib\\http\\client.py:566\u001b[0m, in \u001b[0;36mHTTPResponse._get_chunk_left\u001b[1;34m(self)\u001b[0m\n\u001b[0;32m    564\u001b[0m     \u001b[39mself\u001b[39m\u001b[39m.\u001b[39m_safe_read(\u001b[39m2\u001b[39m)  \u001b[39m# toss the CRLF at the end of the chunk\u001b[39;00m\n\u001b[0;32m    565\u001b[0m \u001b[39mtry\u001b[39;00m:\n\u001b[1;32m--> 566\u001b[0m     chunk_left \u001b[39m=\u001b[39m \u001b[39mself\u001b[39;49m\u001b[39m.\u001b[39;49m_read_next_chunk_size()\n\u001b[0;32m    567\u001b[0m \u001b[39mexcept\u001b[39;00m \u001b[39mValueError\u001b[39;00m:\n\u001b[0;32m    568\u001b[0m     \u001b[39mraise\u001b[39;00m IncompleteRead(\u001b[39mb\u001b[39m\u001b[39m'\u001b[39m\u001b[39m'\u001b[39m)\n",
      "File \u001b[1;32mC:\\Program Files\\WindowsApps\\PythonSoftwareFoundation.Python.3.11_3.11.1008.0_x64__qbz5n2kfra8p0\\Lib\\http\\client.py:526\u001b[0m, in \u001b[0;36mHTTPResponse._read_next_chunk_size\u001b[1;34m(self)\u001b[0m\n\u001b[0;32m    524\u001b[0m \u001b[39mdef\u001b[39;00m \u001b[39m_read_next_chunk_size\u001b[39m(\u001b[39mself\u001b[39m):\n\u001b[0;32m    525\u001b[0m     \u001b[39m# Read the next chunk size from the file\u001b[39;00m\n\u001b[1;32m--> 526\u001b[0m     line \u001b[39m=\u001b[39m \u001b[39mself\u001b[39m\u001b[39m.\u001b[39mfp\u001b[39m.\u001b[39mreadline(_MAXLINE \u001b[39m+\u001b[39m \u001b[39m1\u001b[39m)\n\u001b[0;32m    527\u001b[0m     \u001b[39mif\u001b[39;00m \u001b[39mlen\u001b[39m(line) \u001b[39m>\u001b[39m _MAXLINE:\n\u001b[0;32m    528\u001b[0m         \u001b[39mraise\u001b[39;00m LineTooLong(\u001b[39m\"\u001b[39m\u001b[39mchunk size\u001b[39m\u001b[39m\"\u001b[39m)\n",
      "File \u001b[1;32mC:\\Program Files\\WindowsApps\\PythonSoftwareFoundation.Python.3.11_3.11.1008.0_x64__qbz5n2kfra8p0\\Lib\\socket.py:706\u001b[0m, in \u001b[0;36mSocketIO.readinto\u001b[1;34m(self, b)\u001b[0m\n\u001b[0;32m    704\u001b[0m \u001b[39mwhile\u001b[39;00m \u001b[39mTrue\u001b[39;00m:\n\u001b[0;32m    705\u001b[0m     \u001b[39mtry\u001b[39;00m:\n\u001b[1;32m--> 706\u001b[0m         \u001b[39mreturn\u001b[39;00m \u001b[39mself\u001b[39;49m\u001b[39m.\u001b[39;49m_sock\u001b[39m.\u001b[39;49mrecv_into(b)\n\u001b[0;32m    707\u001b[0m     \u001b[39mexcept\u001b[39;00m timeout:\n\u001b[0;32m    708\u001b[0m         \u001b[39mself\u001b[39m\u001b[39m.\u001b[39m_timeout_occurred \u001b[39m=\u001b[39m \u001b[39mTrue\u001b[39;00m\n",
      "File \u001b[1;32mC:\\Program Files\\WindowsApps\\PythonSoftwareFoundation.Python.3.11_3.11.1008.0_x64__qbz5n2kfra8p0\\Lib\\ssl.py:1278\u001b[0m, in \u001b[0;36mSSLSocket.recv_into\u001b[1;34m(self, buffer, nbytes, flags)\u001b[0m\n\u001b[0;32m   1274\u001b[0m     \u001b[39mif\u001b[39;00m flags \u001b[39m!=\u001b[39m \u001b[39m0\u001b[39m:\n\u001b[0;32m   1275\u001b[0m         \u001b[39mraise\u001b[39;00m \u001b[39mValueError\u001b[39;00m(\n\u001b[0;32m   1276\u001b[0m           \u001b[39m\"\u001b[39m\u001b[39mnon-zero flags not allowed in calls to recv_into() on \u001b[39m\u001b[39m%s\u001b[39;00m\u001b[39m\"\u001b[39m \u001b[39m%\u001b[39m\n\u001b[0;32m   1277\u001b[0m           \u001b[39mself\u001b[39m\u001b[39m.\u001b[39m\u001b[39m__class__\u001b[39m)\n\u001b[1;32m-> 1278\u001b[0m     \u001b[39mreturn\u001b[39;00m \u001b[39mself\u001b[39;49m\u001b[39m.\u001b[39;49mread(nbytes, buffer)\n\u001b[0;32m   1279\u001b[0m \u001b[39melse\u001b[39;00m:\n\u001b[0;32m   1280\u001b[0m     \u001b[39mreturn\u001b[39;00m \u001b[39msuper\u001b[39m()\u001b[39m.\u001b[39mrecv_into(buffer, nbytes, flags)\n",
      "File \u001b[1;32mC:\\Program Files\\WindowsApps\\PythonSoftwareFoundation.Python.3.11_3.11.1008.0_x64__qbz5n2kfra8p0\\Lib\\ssl.py:1134\u001b[0m, in \u001b[0;36mSSLSocket.read\u001b[1;34m(self, len, buffer)\u001b[0m\n\u001b[0;32m   1132\u001b[0m \u001b[39mtry\u001b[39;00m:\n\u001b[0;32m   1133\u001b[0m     \u001b[39mif\u001b[39;00m buffer \u001b[39mis\u001b[39;00m \u001b[39mnot\u001b[39;00m \u001b[39mNone\u001b[39;00m:\n\u001b[1;32m-> 1134\u001b[0m         \u001b[39mreturn\u001b[39;00m \u001b[39mself\u001b[39;49m\u001b[39m.\u001b[39;49m_sslobj\u001b[39m.\u001b[39;49mread(\u001b[39mlen\u001b[39;49m, buffer)\n\u001b[0;32m   1135\u001b[0m     \u001b[39melse\u001b[39;00m:\n\u001b[0;32m   1136\u001b[0m         \u001b[39mreturn\u001b[39;00m \u001b[39mself\u001b[39m\u001b[39m.\u001b[39m_sslobj\u001b[39m.\u001b[39mread(\u001b[39mlen\u001b[39m)\n",
      "\u001b[1;31mKeyboardInterrupt\u001b[0m: "
     ]
    }
   ],
   "source": [
    "import random\n",
    "from imdb import IMDb\n",
    "\n",
    "ia = IMDb()\n",
    "top_movies = ia.get_top250_movies()\n",
    "best_movies = top_movies[:500]\n",
    "\n",
    "while True:\n",
    "    random_movie = random.choice(best_movies)\n",
    "    movie = ia.get_movie(random_movie.getID())\n",
    "    print(dir(movie))\n",
    "    #print(\"Film adı:\", movie['title'])\n",
    "'''    print(\"Yönetmenler:\", movie['directors'][0][\"name\"])\n",
    "    print(\"Oyuncular:\", movie['cast'][0][\"name\"])\n",
    "    print(\"Puanlama:\", movie['rating'])\n",
    "    print(\"Türler:\", movie['genres'])\n",
    "    print(\"Yıl:\", movie['year'])\n",
    "    print(\"Ülke:\", movie['countries'])\n",
    "    print(\"IMDb ID:\", movie.getID())'''"
   ]
  }
 ],
 "metadata": {
  "kernelspec": {
   "display_name": "Python 3",
   "language": "python",
   "name": "python3"
  },
  "language_info": {
   "codemirror_mode": {
    "name": "ipython",
    "version": 3
   },
   "file_extension": ".py",
   "mimetype": "text/x-python",
   "name": "python",
   "nbconvert_exporter": "python",
   "pygments_lexer": "ipython3",
   "version": "3.11.3"
  },
  "orig_nbformat": 4
 },
 "nbformat": 4,
 "nbformat_minor": 2
}

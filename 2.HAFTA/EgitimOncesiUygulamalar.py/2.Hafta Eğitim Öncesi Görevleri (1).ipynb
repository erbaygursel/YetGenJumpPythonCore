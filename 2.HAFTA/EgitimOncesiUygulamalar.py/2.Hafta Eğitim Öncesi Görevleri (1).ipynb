{
  "cells": [
    {
      "cell_type": "markdown",
      "metadata": {},
      "source": [
        "### Soru 1 \n",
        "Yazılımcıların bir dili öğrenmeye başladığında ilk yapacakları şey ekrana \"Hello World\" yazdırmaktır. Python'da da aynı şeyi yapalım.Bir yazılımcı aşağıdaki kodu yazarken hata yapıyor. Bunu düzelterek çalışan bir kod yazalım.\n"
      ]
    },
    {
      "cell_type": "code",
      "execution_count": 4,
      "metadata": {},
      "outputs": [
        {
          "name": "stdout",
          "output_type": "stream",
          "text": [
            "Hello world\n"
          ]
        }
      ],
      "source": [
        "print(\"Hello world\")"
      ]
    },
    {
      "cell_type": "markdown",
      "metadata": {
        "id": "t9Rh_pt2TGGL"
      },
      "source": [
        "### Soru 2\n",
        "İki YetGen'li zirvede karşılaşıyor. Zirvede birbirleriyle Python standında konuşurken YetGen Jump Python renginin ne olduğunu konuşurken bir YetGen lideri **logo** değişkenine atayıp ekrana bastırmalarını istiyor. Onlara bu noktada yardımcı olur musun?"
      ]
    },
    {
      "cell_type": "code",
      "execution_count": 3,
      "metadata": {
        "id": "RI1LXAWhTGGO",
        "trusted": true
      },
      "outputs": [
        {
          "name": "stdout",
          "output_type": "stream",
          "text": [
            "logo rengi: Mor\n"
          ]
        }
      ],
      "source": [
        "# 2.Sorunun çözümünü buraya yazabilirsin.\n",
        "logo = input(\"YetGen logo rengini giriniz : \")\n",
        "print(\"logo rengi:\" , logo)\n"
      ]
    },
    {
      "cell_type": "markdown",
      "metadata": {
        "id": "g0lXs2PTTGGR"
      },
      "source": [
        "### Soru 3\n",
        "Dairenin alanını hesaplayan bir Python kodu yazınız. pi sayısını 3.14 olarak alınız ve yarıçapını kullanıcıdan alınız. Sonucu ekrana bastırınız."
      ]
    },
    {
      "cell_type": "code",
      "execution_count": 5,
      "metadata": {
        "id": "BGpgBhplTGGS",
        "trusted": true
      },
      "outputs": [
        {
          "name": "stdout",
          "output_type": "stream",
          "text": [
            "Alan:  452.16 yarıçap:  12\n"
          ]
        }
      ],
      "source": [
        "# 3.Sorunun çözümünü buraya yazabilirsin.\n",
        "r= int(float(input(\"Yarı Çapı Giriniz: \")))\n",
        "alan=3.14*r**2\n",
        "print(\"Alan: \", alan , \"yarıçap: \", r)"
      ]
    },
    {
      "cell_type": "markdown",
      "metadata": {
        "id": "cPMMpdJzTGGV",
        "tags": []
      },
      "source": [
        "### Soru 4\n",
        "x ve y adında iki liste oluşturunuz. Bu listeleri birbiryle yer değiştirerek yazdırınız.\n",
        "\n",
        "```python\n",
        "x = [1,2,3,4,5]\n",
        "y = [5,4,3,2,1]\n",
        "``` \n",
        "\n",
        "```python\t\n",
        "Output:\n",
        "x = [5, 4, 3, 2, 1]\n",
        "y = [1, 2, 3, 4, 5]\n",
        "```"
      ]
    },
    {
      "cell_type": "code",
      "execution_count": 9,
      "metadata": {
        "trusted": true
      },
      "outputs": [
        {
          "ename": "NameError",
          "evalue": "name 'x' is not defined",
          "output_type": "error",
          "traceback": [
            "\u001b[1;31m---------------------------------------------------------------------------\u001b[0m",
            "\u001b[1;31mNameError\u001b[0m                                 Traceback (most recent call last)",
            "Cell \u001b[1;32mIn[9], line 1\u001b[0m\n\u001b[1;32m----> 1\u001b[0m \u001b[39mprint\u001b[39m(x[\u001b[39m4\u001b[39m][\u001b[39m3\u001b[39m][\u001b[39m2\u001b[39m][\u001b[39m1\u001b[39m][\u001b[39m0\u001b[39m])\n\u001b[0;32m      3\u001b[0m \u001b[39mprint\u001b[39m(y[\u001b[39m4\u001b[39m][\u001b[39m3\u001b[39m][\u001b[39m2\u001b[39m][\u001b[39m1\u001b[39m][\u001b[39m0\u001b[39m])\n",
            "\u001b[1;31mNameError\u001b[0m: name 'x' is not defined"
          ]
        }
      ],
      "source": [
        "#ÇÖZÜM BULAMADIM, BOŞ BIRAKILMIŞTIR."
      ]
    },
    {
      "cell_type": "markdown",
      "metadata": {
        "id": "vhKsciz1TGGY"
      },
      "source": [
        "### Soru 5\n",
        "Aşağıda verilen kod satırının sonuncunu 1 olacak şekilde düzenleyiniz."
      ]
    },
    {
      "cell_type": "code",
      "execution_count": 6,
      "metadata": {
        "id": "aAgU4SaSTGGb",
        "trusted": true
      },
      "outputs": [
        {
          "name": "stdout",
          "output_type": "stream",
          "text": [
            "1\n"
          ]
        }
      ],
      "source": [
        "5 - 3 // 2\n",
        "\n",
        "print(int((5-3) // 2))"
      ]
    },
    {
      "cell_type": "markdown",
      "metadata": {
        "id": "kRHlU52YTGGe"
      },
      "source": [
        "### Soru 6\n",
        "Aşağıdaki kod satırının sonuncusunu 0 olacak şekilde düzenleyiniz."
      ]
    },
    {
      "cell_type": "code",
      "execution_count": 7,
      "metadata": {
        "id": "SQfEo_XTTGGg",
        "trusted": true
      },
      "outputs": [
        {
          "name": "stdout",
          "output_type": "stream",
          "text": [
            "0\n"
          ]
        }
      ],
      "source": [
        "8 - 3 * 2 - 1 + 1\n",
        "print(8 - (3 * 2) - 1 + (-1))"
      ]
    },
    {
      "cell_type": "markdown",
      "metadata": {
        "id": "tpixAZXyTGGi"
      },
      "source": [
        "### Soru 7\n",
        "YetGen liderlerinden Berkcan, Emirhan ve Eslem, Ramazan Bayramı'nda topladıkları şekerlerini bir araya getirmeyi ve kendi aralarında eşit olarak paylaşmayı kabul ettiler.\n",
        "Eşit paylaşım yapıldıktan sonra kalan şekerler parçalanacak. Örneğin, eğer toplamda 91 şekerleri varsa , her biri 30 tane alıp kalan 1 tane şekeri parçalayacaklar.\n",
        "Kaç tane şekeri parçalayacaklarını hesaplayan bir Python kodu yazınız."
      ]
    },
    {
      "cell_type": "code",
      "execution_count": 8,
      "metadata": {
        "id": "O75NG8MaTGGk",
        "trusted": true
      },
      "outputs": [
        {
          "name": "stdout",
          "output_type": "stream",
          "text": [
            "Ezilecek olan şeker sayısı:  2\n"
          ]
        }
      ],
      "source": [
        "# 7.Sorunun çözümünü buraya yazabilirsin.\n",
        "sekerBerkcan = int(input( \"Berkcanın'ın Şekerleri: \"))\n",
        "sekerEmirhan =  int(input( \"Emirhan'ın Şekerleri: \"))\n",
        "sekerEslem =  int(input( \"Eslem'in Şekerleri: \"))\n",
        "parcanalacakSeker = int(( sekerBerkcan + sekerEmirhan + sekerEslem ) % 3 )\n",
        "print(\"Ezilecek olan şeker sayısı: \",parcanalacakSeker)\n"
      ]
    }
  ],
  "metadata": {
    "colab": {
      "provenance": []
    },
    "kernelspec": {
      "display_name": "Python 3",
      "language": "python",
      "name": "python3"
    },
    "language_info": {
      "codemirror_mode": {
        "name": "ipython",
        "version": 3
      },
      "file_extension": ".py",
      "mimetype": "text/x-python",
      "name": "python",
      "nbconvert_exporter": "python",
      "pygments_lexer": "ipython3",
      "version": "3.11.1"
    },
    "vscode": {
      "interpreter": {
        "hash": "ffe91df24089a53a2802270bb6c8b7fa37967dc8db9889f77818759ca664ef92"
      }
    }
  },
  "nbformat": 4,
  "nbformat_minor": 4
}

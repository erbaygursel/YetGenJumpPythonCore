{
  "cells": [
    {
      "cell_type": "markdown",
      "metadata": {},
      "source": [
        "### Soru 1 \n",
        "Yazılımcıların bir dili öğrenmeye başladığında ilk yapacakları şey ekrana \"Hello World\" yazdırmaktır. Python'da da aynı şeyi yapalım.Bir yazılımcı aşağıdaki kodu yazarken hata yapıyor. Bunu düzelterek çalışan bir kod yazalım.\n"
      ]
    },
    {
      "cell_type": "code",
      "execution_count": null,
      "metadata": {},
      "outputs": [],
      "source": [
        "print(\"Hello world\")"
      ]
    },
    {
      "cell_type": "markdown",
      "metadata": {
        "id": "t9Rh_pt2TGGL"
      },
      "source": [
        "### Soru 2\n",
        "İki YetGen'li zirvede karşılaşıyor. Zirvede birbirleriyle Python standında konuşurken YetGen Jump Python renginin ne olduğunu konuşurken bir YetGen lideri **logo** değişkenine atayıp ekrana bastırmalarını istiyor. Onlara bu noktada yardımcı olur musun?"
      ]
    },
    {
      "cell_type": "code",
      "execution_count": 2,
      "metadata": {
        "id": "RI1LXAWhTGGO",
        "trusted": true
      },
      "outputs": [
        {
          "name": "stdout",
          "output_type": "stream",
          "text": [
            "<PyodideFuture pending cb=[WebLoop._decrement_in_progress()]>\n"
          ]
        },
        {
          "name": "stdout",
          "output_type": "stream",
          "text": [
            "YetGen logo rengini giriniz :  mavi-kırmızı\n"
          ]
        }
      ],
      "source": [
        "# 2.Sorunun çözümünü buraya yazabilirsin.\n",
        "logo = input(\"YetGen logo rengini giriniz : \")\n",
        "print(logo)\n"
      ]
    },
    {
      "cell_type": "markdown",
      "metadata": {
        "id": "g0lXs2PTTGGR"
      },
      "source": [
        "### Soru 3\n",
        "Dairenin alanını hesaplayan bir Python kodu yazınız. pi sayısını 3.14 olarak alınız ve yarıçapını kullanıcıdan alınız. Sonucu ekrana bastırınız."
      ]
    },
    {
      "cell_type": "code",
      "execution_count": null,
      "metadata": {
        "id": "BGpgBhplTGGS",
        "trusted": true
      },
      "outputs": [],
      "source": [
        "# 3.Sorunun çözümünü buraya yazabilirsin.\n",
        "r=int(input(\"Yarı Çapı Giriniz: \"))\n",
        "alan=3.14*r**2\n",
        "print(\"Alan: \",alan)"
      ]
    },
    {
      "cell_type": "markdown",
      "metadata": {
        "id": "cPMMpdJzTGGV",
        "tags": []
      },
      "source": [
        "### Soru 4\n",
        "x ve y adında iki liste oluşturunuz. Bu listeleri birbiryle yer değiştirerek yazdırınız.\n",
        "\n",
        "```python\n",
        "x = [1,2,3,4,5]\n",
        "y = [5,4,3,2,1]\n",
        "``` \n",
        "\n",
        "```python\t\n",
        "Output:\n",
        "x = [5, 4, 3, 2, 1]\n",
        "y = [1, 2, 3, 4, 5]\n",
        "```"
      ]
    },
    {
      "cell_type": "code",
      "execution_count": null,
      "metadata": {
        "trusted": true
      },
      "outputs": [],
      "source": [
        "print(x[4][3][2][1][0])\n",
        "\n",
        "print(y[4][3][2][1][0])"
      ]
    },
    {
      "cell_type": "markdown",
      "metadata": {
        "id": "vhKsciz1TGGY"
      },
      "source": [
        "### Soru 5\n",
        "Aşağıda verilen kod satırının sonuncunu 1 olacak şekilde düzenleyiniz."
      ]
    },
    {
      "cell_type": "code",
      "execution_count": 4,
      "metadata": {
        "id": "aAgU4SaSTGGb",
        "trusted": true
      },
      "outputs": [
        {
          "name": "stdout",
          "output_type": "stream",
          "text": [
            "1\n"
          ]
        }
      ],
      "source": [
        "5 - 3 // 2\n",
        "\n",
        "print(int((5-3) // 2))"
      ]
    },
    {
      "cell_type": "markdown",
      "metadata": {
        "id": "kRHlU52YTGGe"
      },
      "source": [
        "### Soru 6\n",
        "Aşağıdaki kod satırının sonuncusunu 0 olacak şekilde düzenleyiniz."
      ]
    },
    {
      "cell_type": "code",
      "execution_count": 9,
      "metadata": {
        "id": "SQfEo_XTTGGg",
        "trusted": true
      },
      "outputs": [
        {
          "name": "stdout",
          "output_type": "stream",
          "text": [
            "0\n"
          ]
        }
      ],
      "source": [
        "8 - 3 * 2 - 1 + 1\n",
        "print(8 - (3 * 2) - 1 + (-1))"
      ]
    },
    {
      "cell_type": "markdown",
      "metadata": {
        "id": "tpixAZXyTGGi"
      },
      "source": [
        "### Soru 7\n",
        "YetGen liderlerinden Berkcan, Emirhan ve Eslem, Ramazan Bayramı'nda topladıkları şekerlerini bir araya getirmeyi ve kendi aralarında eşit olarak paylaşmayı kabul ettiler.\n",
        "Eşit paylaşım yapıldıktan sonra kalan şekerler parçalanacak. Örneğin, eğer toplamda 91 şekerleri varsa , her biri 30 tane alıp kalan 1 tane şekeri parçalayacaklar.\n",
        "Kaç tane şekeri parçalayacaklarını hesaplayan bir Python kodu yazınız."
      ]
    },
    {
      "cell_type": "code",
      "execution_count": null,
      "metadata": {
        "id": "O75NG8MaTGGk",
        "trusted": true
      },
      "outputs": [],
      "source": [
        "# 7.Sorunun çözümünü buraya yazabilirsin.\n",
        "sekerBerkcan = int(input( \"Berkcanın'ın Şekerleri: \"))\n",
        "sekerEmirhan =  int(input( \"Emirhan'ın Şekerleri: \"))\n",
        "sekerEslem =  int(input( \"Eslem'in Şekerleri: \"))\n",
        "parcanalacakSeker = int(( sekerBerkcan + sekerEmirhan + sekerEslem ) % 3 )\n",
        "print(\"Ezilecek olan şeker sayısı: \",parcanalacakSeker)\n"
      ]
    }
  ],
  "metadata": {
    "colab": {
      "provenance": []
    },
    "kernelspec": {
      "display_name": "Python 3",
      "language": "python",
      "name": "python3"
    },
    "language_info": {
      "codemirror_mode": {
        "name": "python",
        "version": 3
      },
      "file_extension": ".py",
      "mimetype": "text/x-python",
      "name": "python",
      "nbconvert_exporter": "python",
      "pygments_lexer": "ipython3",
      "version": "3.11.1"
    },
    "vscode": {
      "interpreter": {
        "hash": "703db836ef6438d009a1eb14d5731e3248486d2253234d13766d78cf5ab13794"
      }
    }
  },
  "nbformat": 4,
  "nbformat_minor": 4
}

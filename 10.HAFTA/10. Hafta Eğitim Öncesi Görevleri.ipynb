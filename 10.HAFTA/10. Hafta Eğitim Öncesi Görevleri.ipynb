{
 "cells": [
  {
   "attachments": {},
   "cell_type": "markdown",
   "metadata": {},
   "source": [
    "# Problem 1"
   ]
  },
  {
   "cell_type": "code",
   "execution_count": 10,
   "metadata": {},
   "outputs": [
    {
     "name": "stdout",
     "output_type": "stream",
     "text": [
      "[9 6 6 9 6]\n",
      "Matrisin boyutu (5,)\n",
      "Matrisi boyutlandır: [[9 6 6 9 6]]\n",
      "Matrisin boyut sayısı: 1\n"
     ]
    }
   ],
   "source": [
    "# 1 - numpy kütüphanesini import edin\n",
    "\n",
    "# 2 - 0 ile 10 arasında 5 sayıdan oluşan matris üretin\n",
    "\n",
    "# 3 - matris'in boyutunu öğrenin\n",
    "\n",
    "# 4 - matris'i yeniden boyutlandırın\n",
    "\n",
    "# 5 - matris'in boyut sayısını öğrenin\n",
    "\n",
    "import numpy as np\n",
    "m = np.random.randint(0,10,(5))\n",
    "print(m)\n",
    "print(\"Matrisin boyutu\",m.shape)\n",
    "print(\"Matrisi boyutlandır:\",m.reshape(1,5))\n",
    "print(\"Matrisin boyut sayısı:\",m.ndim)"
   ]
  },
  {
   "attachments": {},
   "cell_type": "markdown",
   "metadata": {},
   "source": [
    "# Problem 2"
   ]
  },
  {
   "cell_type": "code",
   "execution_count": 19,
   "metadata": {},
   "outputs": [
    {
     "name": "stdout",
     "output_type": "stream",
     "text": [
      "[1 3 5 7 9]\n",
      "[1 3]\n",
      "[5 7]\n",
      "[9]\n",
      "Parçaları birleştirelim:  [1 3 5 7 9]\n"
     ]
    }
   ],
   "source": [
    "# 1 - 0 ile 10 arasında bulunan tek sayılardan oluşan matris üretin\n",
    "\n",
    "# 2 - Oluşturduğunuz matrisi parçalayın\n",
    "\n",
    "# 3 - Parçalanmış matrisleri birleştirin\n",
    "import numpy as np\n",
    "n =np.arange(1,10,2)\n",
    "print(n)\n",
    "a,b,c= np.split(n,[2,4])\n",
    "print(a)\n",
    "print(b)\n",
    "print(c)\n",
    "print(\"Parçaları birleştirelim: \", np.concatenate([a,b,c]))\n",
    "\n",
    "2"
   ]
  },
  {
   "attachments": {},
   "cell_type": "markdown",
   "metadata": {},
   "source": [
    "# Problem 3"
   ]
  },
  {
   "cell_type": "code",
   "execution_count": 36,
   "metadata": {},
   "outputs": [
    {
     "name": "stdout",
     "output_type": "stream",
     "text": [
      "[97 79 57 57 89 17 29 99 13 51]\n",
      "Shape: (10,)\n",
      "Size: 10\n",
      "Data type: int32\n",
      "Matrisin boyut sayısı: 1\n",
      "en buyuk deger: 99\n",
      "en kucuk deger:  13\n",
      "ortalama:  58.8\n",
      "Küçükten büyüğe sıralama: [13 17 29 51 57 57 79 89 97 99]\n",
      "Yeniden boyutlandır: [[97 79 57 57 89]\n",
      " [17 29 99 13 51]]\n"
     ]
    }
   ],
   "source": [
    "# 1 - 5 ile 100 arasında ikişer ikişer atlayarak rastgele 10 sayıdan oluşan matris üretin\n",
    "a = np.random.choice(np.arange(5, 101, 2), size=10)\n",
    "print(a)\n",
    "# 2 - matris'in özelliklerini inceleyin\n",
    "print(\"Shape:\", a.shape)\n",
    "print(\"Size:\", a.size)\n",
    "print(\"Data type:\", a.dtype)\n",
    "print(\"Matrisin boyut sayısı:\", a.ndim)\n",
    "print(\"en buyuk deger:\", np.max(a))\n",
    "print(\"en kucuk deger: \", np.min(a))\n",
    "print(\"ortalama: \", np.mean(a))\n",
    "print(\"Küçükten büyüğe sıralama:\", np.sort(a))\n",
    "print(\"Yeniden boyutlandır:\", a.reshape(2,5))"
   ]
  }
 ],
 "metadata": {
  "kernelspec": {
   "display_name": "Python 3",
   "language": "python",
   "name": "python3"
  },
  "language_info": {
   "codemirror_mode": {
    "name": "ipython",
    "version": 3
   },
   "file_extension": ".py",
   "mimetype": "text/x-python",
   "name": "python",
   "nbconvert_exporter": "python",
   "pygments_lexer": "ipython3",
   "version": "3.11.3"
  },
  "orig_nbformat": 4,
  "vscode": {
   "interpreter": {
    "hash": "5026d2d6e7aaaaba093def813beadff083d8733e4a511af01735cbabd156995d"
   }
  }
 },
 "nbformat": 4,
 "nbformat_minor": 2
}
